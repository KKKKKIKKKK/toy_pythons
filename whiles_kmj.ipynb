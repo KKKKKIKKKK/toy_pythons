{
  "nbformat": 4,
  "nbformat_minor": 0,
  "metadata": {
    "colab": {
      "provenance": [],
      "authorship_tag": "ABX9TyMZf2OXHZUFJ+muHPn6xHvz",
      "include_colab_link": true
    },
    "kernelspec": {
      "name": "python3",
      "display_name": "Python 3"
    },
    "language_info": {
      "name": "python"
    }
  },
  "cells": [
    {
      "cell_type": "markdown",
      "metadata": {
        "id": "view-in-github",
        "colab_type": "text"
      },
      "source": [
        "<a href=\"https://colab.research.google.com/github/KKKKKIKKKK/toy_pythons/blob/main/whiles_kmj.ipynb\" target=\"_parent\"><img src=\"https://colab.research.google.com/assets/colab-badge.svg\" alt=\"Open In Colab\"/></a>"
      ]
    },
    {
      "cell_type": "code",
      "execution_count": 1,
      "metadata": {
        "id": "KBIkTJFYX1Yg"
      },
      "outputs": [],
      "source": [
        "first = 1"
      ]
    },
    {
      "cell_type": "code",
      "source": [
        "while first < 4:\n",
        "  print(first)\n",
        "  print('in whiling')\n",
        "  first = first + 1\n",
        "print('End')"
      ],
      "metadata": {
        "colab": {
          "base_uri": "https://localhost:8080/"
        },
        "id": "LXW1giS3YWoW",
        "outputId": "d5906c0a-4c3c-48e1-cd92-accd5e34d252"
      },
      "execution_count": 7,
      "outputs": [
        {
          "output_type": "stream",
          "name": "stdout",
          "text": [
            "1\n",
            "in whiling\n",
            "2\n",
            "in whiling\n",
            "3\n",
            "in whiling\n",
            "End\n"
          ]
        }
      ]
    },
    {
      "cell_type": "markdown",
      "source": [
        "# 두 번째 입력을 합니다. "
      ],
      "metadata": {
        "id": "eqWlcloom2SB"
      }
    },
    {
      "cell_type": "code",
      "source": [],
      "metadata": {
        "id": "NOuK3J3um8Wc"
      },
      "execution_count": null,
      "outputs": []
    }
  ]
}