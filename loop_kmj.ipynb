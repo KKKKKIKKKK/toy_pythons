{
  "nbformat": 4,
  "nbformat_minor": 0,
  "metadata": {
    "colab": {
      "provenance": [],
      "authorship_tag": "ABX9TyNO7OysdG0IXdsoNZjmKVkK",
      "include_colab_link": true
    },
    "kernelspec": {
      "name": "python3",
      "display_name": "Python 3"
    },
    "language_info": {
      "name": "python"
    }
  },
  "cells": [
    {
      "cell_type": "markdown",
      "metadata": {
        "id": "view-in-github",
        "colab_type": "text"
      },
      "source": [
        "<a href=\"https://colab.research.google.com/github/KKKKKIKKKK/toy_pythons/blob/main/loop_kmj.ipynb\" target=\"_parent\"><img src=\"https://colab.research.google.com/assets/colab-badge.svg\" alt=\"Open In Colab\"/></a>"
      ]
    },
    {
      "cell_type": "markdown",
      "source": [
        "count=숫자1이라는 변수를 만든다."
      ],
      "metadata": {
        "id": "1qUmvL6rvC4P"
      }
    },
    {
      "cell_type": "code",
      "execution_count": 3,
      "metadata": {
        "id": "lrwK9p7luj4z"
      },
      "outputs": [],
      "source": [
        "count = 1"
      ]
    },
    {
      "cell_type": "markdown",
      "source": [
        "5까지 1씩 증가하는 값 찍기"
      ],
      "metadata": {
        "id": "JRB5wF0VvKbH"
      }
    },
    {
      "cell_type": "code",
      "source": [
        "while count < 6:\n",
        "  print(count)\n",
        "  print('repeat')\n",
        "  count = count + 1\n",
        "print('End')"
      ],
      "metadata": {
        "colab": {
          "base_uri": "https://localhost:8080/"
        },
        "id": "suIM2NhcvTQl",
        "outputId": "36a7fd82-0a7a-46ce-f421-e1b25571c75b"
      },
      "execution_count": 4,
      "outputs": [
        {
          "output_type": "stream",
          "name": "stdout",
          "text": [
            "1\n",
            "repeat\n",
            "2\n",
            "repeat\n",
            "3\n",
            "repeat\n",
            "4\n",
            "repeat\n",
            "5\n",
            "repeat\n",
            "End\n"
          ]
        }
      ]
    }
  ]
}